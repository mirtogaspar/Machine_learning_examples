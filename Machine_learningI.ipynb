{
 "cells": [
  {
   "cell_type": "code",
   "execution_count": 1,
   "id": "eb165994-df5b-406e-b97c-d8b76d01ed46",
   "metadata": {},
   "outputs": [],
   "source": [
    "import pandas as pd\n",
    "import matplotlib.pyplot as plt\n",
    "import numpy as np\n",
    "\n",
    "from sklearn.model_selection import train_test_split\n",
    "from sklearn.linear_model import LinearRegression# r2\n",
    "from sklearn.metrics import r2_score\n",
    "from sklearn.metrics import mean_squared_error"
   ]
  },
  {
   "cell_type": "code",
   "execution_count": 2,
   "id": "5908d1ba-3f8f-409f-94fb-cb7c2656671b",
   "metadata": {},
   "outputs": [
    {
     "data": {
      "text/html": [
       "<div>\n",
       "<style scoped>\n",
       "    .dataframe tbody tr th:only-of-type {\n",
       "        vertical-align: middle;\n",
       "    }\n",
       "\n",
       "    .dataframe tbody tr th {\n",
       "        vertical-align: top;\n",
       "    }\n",
       "\n",
       "    .dataframe thead th {\n",
       "        text-align: right;\n",
       "    }\n",
       "</style>\n",
       "<table border=\"1\" class=\"dataframe\">\n",
       "  <thead>\n",
       "    <tr style=\"text-align: right;\">\n",
       "      <th></th>\n",
       "      <th>MAKE</th>\n",
       "      <th>MODEL</th>\n",
       "      <th>VEHICLECLASS</th>\n",
       "      <th>ENGINESIZE</th>\n",
       "      <th>CYLINDERS</th>\n",
       "      <th>TRANSMISSION</th>\n",
       "      <th>FUELTYPE</th>\n",
       "      <th>FUELCONSUMPTION_CITY</th>\n",
       "      <th>FUELCONSUMPTION_HWY</th>\n",
       "      <th>FUELCONSUMPTION_COMB</th>\n",
       "      <th>FUELCONSUMPTION_COMB_MPG</th>\n",
       "      <th>CO2EMISSIONS</th>\n",
       "    </tr>\n",
       "  </thead>\n",
       "  <tbody>\n",
       "    <tr>\n",
       "      <th>0</th>\n",
       "      <td>ACURA</td>\n",
       "      <td>ILX</td>\n",
       "      <td>COMPACT</td>\n",
       "      <td>2.0</td>\n",
       "      <td>4</td>\n",
       "      <td>AS5</td>\n",
       "      <td>Z</td>\n",
       "      <td>9.9</td>\n",
       "      <td>6.7</td>\n",
       "      <td>8.5</td>\n",
       "      <td>33</td>\n",
       "      <td>196</td>\n",
       "    </tr>\n",
       "    <tr>\n",
       "      <th>1</th>\n",
       "      <td>ACURA</td>\n",
       "      <td>ILX</td>\n",
       "      <td>COMPACT</td>\n",
       "      <td>2.4</td>\n",
       "      <td>4</td>\n",
       "      <td>M6</td>\n",
       "      <td>Z</td>\n",
       "      <td>11.2</td>\n",
       "      <td>7.7</td>\n",
       "      <td>9.6</td>\n",
       "      <td>29</td>\n",
       "      <td>221</td>\n",
       "    </tr>\n",
       "    <tr>\n",
       "      <th>2</th>\n",
       "      <td>ACURA</td>\n",
       "      <td>ILX HYBRID</td>\n",
       "      <td>COMPACT</td>\n",
       "      <td>1.5</td>\n",
       "      <td>4</td>\n",
       "      <td>AV7</td>\n",
       "      <td>Z</td>\n",
       "      <td>6.0</td>\n",
       "      <td>5.8</td>\n",
       "      <td>5.9</td>\n",
       "      <td>48</td>\n",
       "      <td>136</td>\n",
       "    </tr>\n",
       "    <tr>\n",
       "      <th>3</th>\n",
       "      <td>ACURA</td>\n",
       "      <td>MDX 4WD</td>\n",
       "      <td>SUV - SMALL</td>\n",
       "      <td>3.5</td>\n",
       "      <td>6</td>\n",
       "      <td>AS6</td>\n",
       "      <td>Z</td>\n",
       "      <td>12.7</td>\n",
       "      <td>9.1</td>\n",
       "      <td>11.1</td>\n",
       "      <td>25</td>\n",
       "      <td>255</td>\n",
       "    </tr>\n",
       "    <tr>\n",
       "      <th>4</th>\n",
       "      <td>ACURA</td>\n",
       "      <td>RDX AWD</td>\n",
       "      <td>SUV - SMALL</td>\n",
       "      <td>3.5</td>\n",
       "      <td>6</td>\n",
       "      <td>AS6</td>\n",
       "      <td>Z</td>\n",
       "      <td>12.1</td>\n",
       "      <td>8.7</td>\n",
       "      <td>10.6</td>\n",
       "      <td>27</td>\n",
       "      <td>244</td>\n",
       "    </tr>\n",
       "  </tbody>\n",
       "</table>\n",
       "</div>"
      ],
      "text/plain": [
       "    MAKE       MODEL VEHICLECLASS  ENGINESIZE  CYLINDERS TRANSMISSION  \\\n",
       "0  ACURA         ILX      COMPACT         2.0          4          AS5   \n",
       "1  ACURA         ILX      COMPACT         2.4          4           M6   \n",
       "2  ACURA  ILX HYBRID      COMPACT         1.5          4          AV7   \n",
       "3  ACURA     MDX 4WD  SUV - SMALL         3.5          6          AS6   \n",
       "4  ACURA     RDX AWD  SUV - SMALL         3.5          6          AS6   \n",
       "\n",
       "  FUELTYPE  FUELCONSUMPTION_CITY  FUELCONSUMPTION_HWY  FUELCONSUMPTION_COMB  \\\n",
       "0        Z                   9.9                  6.7                   8.5   \n",
       "1        Z                  11.2                  7.7                   9.6   \n",
       "2        Z                   6.0                  5.8                   5.9   \n",
       "3        Z                  12.7                  9.1                  11.1   \n",
       "4        Z                  12.1                  8.7                  10.6   \n",
       "\n",
       "   FUELCONSUMPTION_COMB_MPG  CO2EMISSIONS  \n",
       "0                        33           196  \n",
       "1                        29           221  \n",
       "2                        48           136  \n",
       "3                        25           255  \n",
       "4                        27           244  "
      ]
     },
     "execution_count": 2,
     "metadata": {},
     "output_type": "execute_result"
    }
   ],
   "source": [
    "dataset = pd.read_csv('FuelConsumptionCo2.csv')\n",
    "dataset.head()"
   ]
  },
  {
   "cell_type": "code",
   "execution_count": 3,
   "id": "bce3954c-a737-4895-b8db-5a2029f61384",
   "metadata": {},
   "outputs": [
    {
     "data": {
      "text/plain": [
       "(1067, 12)"
      ]
     },
     "execution_count": 3,
     "metadata": {},
     "output_type": "execute_result"
    }
   ],
   "source": [
    "dataset.shape"
   ]
  },
  {
   "cell_type": "code",
   "execution_count": 4,
   "id": "1da99a7b-f058-4048-9bbf-2430f8605fef",
   "metadata": {},
   "outputs": [
    {
     "data": {
      "text/html": [
       "<div>\n",
       "<style scoped>\n",
       "    .dataframe tbody tr th:only-of-type {\n",
       "        vertical-align: middle;\n",
       "    }\n",
       "\n",
       "    .dataframe tbody tr th {\n",
       "        vertical-align: top;\n",
       "    }\n",
       "\n",
       "    .dataframe thead th {\n",
       "        text-align: right;\n",
       "    }\n",
       "</style>\n",
       "<table border=\"1\" class=\"dataframe\">\n",
       "  <thead>\n",
       "    <tr style=\"text-align: right;\">\n",
       "      <th></th>\n",
       "      <th>ENGINESIZE</th>\n",
       "      <th>CYLINDERS</th>\n",
       "      <th>FUELCONSUMPTION_CITY</th>\n",
       "      <th>FUELCONSUMPTION_HWY</th>\n",
       "      <th>FUELCONSUMPTION_COMB</th>\n",
       "      <th>FUELCONSUMPTION_COMB_MPG</th>\n",
       "      <th>CO2EMISSIONS</th>\n",
       "    </tr>\n",
       "  </thead>\n",
       "  <tbody>\n",
       "    <tr>\n",
       "      <th>count</th>\n",
       "      <td>1067.000000</td>\n",
       "      <td>1067.000000</td>\n",
       "      <td>1067.000000</td>\n",
       "      <td>1067.000000</td>\n",
       "      <td>1067.000000</td>\n",
       "      <td>1067.000000</td>\n",
       "      <td>1067.000000</td>\n",
       "    </tr>\n",
       "    <tr>\n",
       "      <th>mean</th>\n",
       "      <td>3.346298</td>\n",
       "      <td>5.794752</td>\n",
       "      <td>13.296532</td>\n",
       "      <td>9.474602</td>\n",
       "      <td>11.580881</td>\n",
       "      <td>26.441425</td>\n",
       "      <td>256.228679</td>\n",
       "    </tr>\n",
       "    <tr>\n",
       "      <th>std</th>\n",
       "      <td>1.415895</td>\n",
       "      <td>1.797447</td>\n",
       "      <td>4.101253</td>\n",
       "      <td>2.794510</td>\n",
       "      <td>3.485595</td>\n",
       "      <td>7.468702</td>\n",
       "      <td>63.372304</td>\n",
       "    </tr>\n",
       "    <tr>\n",
       "      <th>min</th>\n",
       "      <td>1.000000</td>\n",
       "      <td>3.000000</td>\n",
       "      <td>4.600000</td>\n",
       "      <td>4.900000</td>\n",
       "      <td>4.700000</td>\n",
       "      <td>11.000000</td>\n",
       "      <td>108.000000</td>\n",
       "    </tr>\n",
       "    <tr>\n",
       "      <th>25%</th>\n",
       "      <td>2.000000</td>\n",
       "      <td>4.000000</td>\n",
       "      <td>10.250000</td>\n",
       "      <td>7.500000</td>\n",
       "      <td>9.000000</td>\n",
       "      <td>21.000000</td>\n",
       "      <td>207.000000</td>\n",
       "    </tr>\n",
       "    <tr>\n",
       "      <th>50%</th>\n",
       "      <td>3.400000</td>\n",
       "      <td>6.000000</td>\n",
       "      <td>12.600000</td>\n",
       "      <td>8.800000</td>\n",
       "      <td>10.900000</td>\n",
       "      <td>26.000000</td>\n",
       "      <td>251.000000</td>\n",
       "    </tr>\n",
       "    <tr>\n",
       "      <th>75%</th>\n",
       "      <td>4.300000</td>\n",
       "      <td>8.000000</td>\n",
       "      <td>15.550000</td>\n",
       "      <td>10.850000</td>\n",
       "      <td>13.350000</td>\n",
       "      <td>31.000000</td>\n",
       "      <td>294.000000</td>\n",
       "    </tr>\n",
       "    <tr>\n",
       "      <th>max</th>\n",
       "      <td>8.400000</td>\n",
       "      <td>12.000000</td>\n",
       "      <td>30.200000</td>\n",
       "      <td>20.500000</td>\n",
       "      <td>25.800000</td>\n",
       "      <td>60.000000</td>\n",
       "      <td>488.000000</td>\n",
       "    </tr>\n",
       "  </tbody>\n",
       "</table>\n",
       "</div>"
      ],
      "text/plain": [
       "        ENGINESIZE    CYLINDERS  FUELCONSUMPTION_CITY  FUELCONSUMPTION_HWY  \\\n",
       "count  1067.000000  1067.000000           1067.000000          1067.000000   \n",
       "mean      3.346298     5.794752             13.296532             9.474602   \n",
       "std       1.415895     1.797447              4.101253             2.794510   \n",
       "min       1.000000     3.000000              4.600000             4.900000   \n",
       "25%       2.000000     4.000000             10.250000             7.500000   \n",
       "50%       3.400000     6.000000             12.600000             8.800000   \n",
       "75%       4.300000     8.000000             15.550000            10.850000   \n",
       "max       8.400000    12.000000             30.200000            20.500000   \n",
       "\n",
       "       FUELCONSUMPTION_COMB  FUELCONSUMPTION_COMB_MPG  CO2EMISSIONS  \n",
       "count           1067.000000               1067.000000   1067.000000  \n",
       "mean              11.580881                 26.441425    256.228679  \n",
       "std                3.485595                  7.468702     63.372304  \n",
       "min                4.700000                 11.000000    108.000000  \n",
       "25%                9.000000                 21.000000    207.000000  \n",
       "50%               10.900000                 26.000000    251.000000  \n",
       "75%               13.350000                 31.000000    294.000000  \n",
       "max               25.800000                 60.000000    488.000000  "
      ]
     },
     "execution_count": 4,
     "metadata": {},
     "output_type": "execute_result"
    }
   ],
   "source": [
    "dataset.describe()"
   ]
  },
  {
   "cell_type": "code",
   "execution_count": 5,
   "id": "2612a396-b2fe-4419-9a31-0eb23914398a",
   "metadata": {},
   "outputs": [],
   "source": [
    "# ENGINESIZE is the dependent variable that we want to explain and FUELCONSUMPTION_CITY is the independent variable\n",
    "X = dataset.iloc[:,[3]].values\n",
    "y = dataset.iloc[:,[-1]].values"
   ]
  },
  {
   "cell_type": "code",
   "execution_count": 6,
   "id": "8f32d2ab-f627-4886-95a0-3a1066b3a079",
   "metadata": {},
   "outputs": [
    {
     "data": {
      "text/plain": [
       "array([[2. ],\n",
       "       [2.4],\n",
       "       [1.5],\n",
       "       ...,\n",
       "       [3. ],\n",
       "       [3.2],\n",
       "       [3.2]])"
      ]
     },
     "execution_count": 6,
     "metadata": {},
     "output_type": "execute_result"
    }
   ],
   "source": [
    "X"
   ]
  },
  {
   "cell_type": "code",
   "execution_count": 7,
   "id": "0eab2704-c991-4b42-9638-66420826bbe1",
   "metadata": {},
   "outputs": [
    {
     "data": {
      "text/plain": [
       "array([[196],\n",
       "       [221],\n",
       "       [136],\n",
       "       ...,\n",
       "       [271],\n",
       "       [260],\n",
       "       [294]], dtype=int64)"
      ]
     },
     "execution_count": 7,
     "metadata": {},
     "output_type": "execute_result"
    }
   ],
   "source": [
    "y"
   ]
  },
  {
   "cell_type": "code",
   "execution_count": 8,
   "id": "f76175a2-2f61-41cd-8d5c-0aaa0f3d773c",
   "metadata": {},
   "outputs": [
    {
     "data": {
      "image/png": "[encoded data removed]",
      "text/plain": [
       "<Figure size 640x480 with 1 Axes>"
      ]
     },
     "metadata": {},
     "output_type": "display_data"
    }
   ],
   "source": [
    "# check the visualisation of the pattern between the data\n",
    "plt.scatter(X, y)\n",
    "plt.show()"
   ]
  },
  {
   "cell_type": "code",
   "execution_count": 9,
   "id": "4443ce04-fa08-4029-85a7-762a6e1859e0",
   "metadata": {},
   "outputs": [],
   "source": [
    "#X test is the 20% of rows the rest 80% is the training test\n",
    "X_train, X_test, y_train, y_test = train_test_split(X, y, test_size = 0.25,random_state=1)"
   ]
  },
  {
   "cell_type": "code",
   "execution_count": 10,
   "id": "171790ab-1cbe-4eda-a7c7-34c919e65e30",
   "metadata": {},
   "outputs": [
    {
     "name": "stdout",
     "output_type": "stream",
     "text": [
      "(800, 1)\n",
      "(267, 1)\n",
      "(800, 1)\n",
      "(267, 1)\n"
     ]
    }
   ],
   "source": [
    "print(X_train.shape)\n",
    "print(X_test.shape)\n",
    "print(y_train.shape)\n",
    "print(y_test.shape)"
   ]
  },
  {
   "cell_type": "code",
   "execution_count": 11,
   "id": "6991dccf-5419-4afa-82c7-4a6166433a11",
   "metadata": {},
   "outputs": [
    {
     "data": {
      "text/html": [
       "<style>#sk-container-id-1 {color: black;}#sk-container-id-1 pre{padding: 0;}#sk-container-id-1 div.sk-toggleable {background-color: white;}#sk-container-id-1 label.sk-toggleable__label {cursor: pointer;display: block;width: 100%;margin-bottom: 0;padding: 0.3em;box-sizing: border-box;text-align: center;}#sk-container-id-1 label.sk-toggleable__label-arrow:before {content: \"▸\";float: left;margin-right: 0.25em;color: #696969;}#sk-container-id-1 label.sk-toggleable__label-arrow:hover:before {color: black;}#sk-container-id-1 div.sk-estimator:hover label.sk-toggleable__label-arrow:before {color: black;}#sk-container-id-1 div.sk-toggleable__content {max-height: 0;max-width: 0;overflow: hidden;text-align: left;background-color: #f0f8ff;}#sk-container-id-1 div.sk-toggleable__content pre {margin: 0.2em;color: black;border-radius: 0.25em;background-color: #f0f8ff;}#sk-container-id-1 input.sk-toggleable__control:checked~div.sk-toggleable__content {max-height: 200px;max-width: 100%;overflow: auto;}#sk-container-id-1 input.sk-toggleable__control:checked~label.sk-toggleable__label-arrow:before {content: \"▾\";}#sk-container-id-1 div.sk-estimator input.sk-toggleable__control:checked~label.sk-toggleable__label {background-color: #d4ebff;}#sk-container-id-1 div.sk-label input.sk-toggleable__control:checked~label.sk-toggleable__label {background-color: #d4ebff;}#sk-container-id-1 input.sk-hidden--visually {border: 0;clip: rect(1px 1px 1px 1px);clip: rect(1px, 1px, 1px, 1px);height: 1px;margin: -1px;overflow: hidden;padding: 0;position: absolute;width: 1px;}#sk-container-id-1 div.sk-estimator {font-family: monospace;background-color: #f0f8ff;border: 1px dotted black;border-radius: 0.25em;box-sizing: border-box;margin-bottom: 0.5em;}#sk-container-id-1 div.sk-estimator:hover {background-color: #d4ebff;}#sk-container-id-1 div.sk-parallel-item::after {content: \"\";width: 100%;border-bottom: 1px solid gray;flex-grow: 1;}#sk-container-id-1 div.sk-label:hover label.sk-toggleable__label {background-color: #d4ebff;}#sk-container-id-1 div.sk-serial::before {content: \"\";position: absolute;border-left: 1px solid gray;box-sizing: border-box;top: 0;bottom: 0;left: 50%;z-index: 0;}#sk-container-id-1 div.sk-serial {display: flex;flex-direction: column;align-items: center;background-color: white;padding-right: 0.2em;padding-left: 0.2em;position: relative;}#sk-container-id-1 div.sk-item {position: relative;z-index: 1;}#sk-container-id-1 div.sk-parallel {display: flex;align-items: stretch;justify-content: center;background-color: white;position: relative;}#sk-container-id-1 div.sk-item::before, #sk-container-id-1 div.sk-parallel-item::before {content: \"\";position: absolute;border-left: 1px solid gray;box-sizing: border-box;top: 0;bottom: 0;left: 50%;z-index: -1;}#sk-container-id-1 div.sk-parallel-item {display: flex;flex-direction: column;z-index: 1;position: relative;background-color: white;}#sk-container-id-1 div.sk-parallel-item:first-child::after {align-self: flex-end;width: 50%;}#sk-container-id-1 div.sk-parallel-item:last-child::after {align-self: flex-start;width: 50%;}#sk-container-id-1 div.sk-parallel-item:only-child::after {width: 0;}#sk-container-id-1 div.sk-dashed-wrapped {border: 1px dashed gray;margin: 0 0.4em 0.5em 0.4em;box-sizing: border-box;padding-bottom: 0.4em;background-color: white;}#sk-container-id-1 div.sk-label label {font-family: monospace;font-weight: bold;display: inline-block;line-height: 1.2em;}#sk-container-id-1 div.sk-label-container {text-align: center;}#sk-container-id-1 div.sk-container {/* jupyter's `normalize.less` sets `[hidden] { display: none; }` but bootstrap.min.css set `[hidden] { display: none !important; }` so we also need the `!important` here to be able to override the default hidden behavior on the sphinx rendered scikit-learn.org. See: https://github.com/scikit-learn/scikit-learn/issues/21755 */display: inline-block !important;position: relative;}#sk-container-id-1 div.sk-text-repr-fallback {display: none;}</style><div id=\"sk-container-id-1\" class=\"sk-top-container\"><div class=\"sk-text-repr-fallback\"><pre>LinearRegression()</pre><b>In a Jupyter environment, please rerun this cell to show the HTML representation or trust the notebook. <br />On GitHub, the HTML representation is unable to render, please try loading this page with nbviewer.org.</b></div><div class=\"sk-container\" hidden><div class=\"sk-item\"><div class=\"sk-estimator sk-toggleable\"><input class=\"sk-toggleable__control sk-hidden--visually\" id=\"sk-estimator-id-1\" type=\"checkbox\" checked><label for=\"sk-estimator-id-1\" class=\"sk-toggleable__label sk-toggleable__label-arrow\">LinearRegression</label><div class=\"sk-toggleable__content\"><pre>LinearRegression()</pre></div></div></div></div></div>"
      ],
      "text/plain": [
       "LinearRegression()"
      ]
     },
     "execution_count": 11,
     "metadata": {},
     "output_type": "execute_result"
    }
   ],
   "source": [
    "model = LinearRegression()\n",
    "model.fit(X_train, y_train)"
   ]
  },
  {
   "cell_type": "code",
   "execution_count": 12,
   "id": "f731266b-e762-40f3-b6fd-d75f449b5a31",
   "metadata": {
    "scrolled": true
   },
   "outputs": [
    {
     "data": {
      "text/plain": [
       "array([[242.88082083],\n",
       "       [179.60282889],\n",
       "       [203.33207587],\n",
       "       [203.33207587],\n",
       "       [306.15881277],\n",
       "       [242.88082083],\n",
       "       [203.33207587],\n",
       "       [195.42232688],\n",
       "       [242.88082083],\n",
       "       [219.15157386],\n",
       "       [219.15157386],\n",
       "       [242.88082083],\n",
       "       [219.15157386],\n",
       "       [329.88805975],\n",
       "       [223.10644835],\n",
       "       [223.10644835],\n",
       "       [187.51257789],\n",
       "       [298.24906378],\n",
       "       [262.65519331],\n",
       "       [219.15157386],\n",
       "       [361.52705572],\n",
       "       [223.10644835],\n",
       "       [270.56494231],\n",
       "       [262.65519331],\n",
       "       [270.56494231],\n",
       "       [242.88082083],\n",
       "       [171.6930799 ],\n",
       "       [341.75268324],\n",
       "       [187.51257789],\n",
       "       [203.33207587],\n",
       "       [242.88082083],\n",
       "       [329.88805975],\n",
       "       [262.65519331],\n",
       "       [333.84293425],\n",
       "       [282.42956579],\n",
       "       [333.84293425],\n",
       "       [369.43680471],\n",
       "       [183.55770339],\n",
       "       [290.33931479],\n",
       "       [254.74544432],\n",
       "       [242.88082083],\n",
       "       [373.39167921],\n",
       "       [203.33207587],\n",
       "       [266.61006781],\n",
       "       [270.56494231],\n",
       "       [203.33207587],\n",
       "       [179.60282889],\n",
       "       [179.60282889],\n",
       "       [203.33207587],\n",
       "       [258.70031882],\n",
       "       [187.51257789],\n",
       "       [349.66243223],\n",
       "       [294.29418928],\n",
       "       [369.43680471],\n",
       "       [203.33207587],\n",
       "       [270.56494231],\n",
       "       [223.10644835],\n",
       "       [321.97831076],\n",
       "       [270.56494231],\n",
       "       [187.51257789],\n",
       "       [219.15157386],\n",
       "       [231.01619734],\n",
       "       [203.33207587],\n",
       "       [203.33207587],\n",
       "       [203.33207587],\n",
       "       [195.42232688],\n",
       "       [270.56494231],\n",
       "       [266.61006781],\n",
       "       [203.33207587],\n",
       "       [187.51257789],\n",
       "       [203.33207587],\n",
       "       [203.33207587],\n",
       "       [266.61006781],\n",
       "       [262.65519331],\n",
       "       [321.97831076],\n",
       "       [369.43680471],\n",
       "       [203.33207587],\n",
       "       [369.43680471],\n",
       "       [203.33207587],\n",
       "       [270.56494231],\n",
       "       [369.43680471],\n",
       "       [179.60282889],\n",
       "       [349.66243223],\n",
       "       [321.97831076],\n",
       "       [203.33207587],\n",
       "       [369.43680471],\n",
       "       [274.5198168 ],\n",
       "       [262.65519331],\n",
       "       [203.33207587],\n",
       "       [266.61006781],\n",
       "       [333.84293425],\n",
       "       [298.24906378],\n",
       "       [203.33207587],\n",
       "       [262.65519331],\n",
       "       [203.33207587],\n",
       "       [203.33207587],\n",
       "       [333.84293425],\n",
       "       [389.21117719],\n",
       "       [203.33207587],\n",
       "       [282.42956579],\n",
       "       [219.15157386],\n",
       "       [369.43680471],\n",
       "       [203.33207587],\n",
       "       [262.65519331],\n",
       "       [187.51257789],\n",
       "       [298.24906378],\n",
       "       [195.42232688],\n",
       "       [333.84293425],\n",
       "       [195.42232688],\n",
       "       [203.33207587],\n",
       "       [219.15157386],\n",
       "       [369.43680471],\n",
       "       [341.75268324],\n",
       "       [298.24906378],\n",
       "       [333.84293425],\n",
       "       [262.65519331],\n",
       "       [223.10644835],\n",
       "       [223.10644835],\n",
       "       [321.97831076],\n",
       "       [203.33207587],\n",
       "       [274.5198168 ],\n",
       "       [294.29418928],\n",
       "       [203.33207587],\n",
       "       [270.56494231],\n",
       "       [203.33207587],\n",
       "       [203.33207587],\n",
       "       [349.66243223],\n",
       "       [349.66243223],\n",
       "       [310.11368727],\n",
       "       [203.33207587],\n",
       "       [219.15157386],\n",
       "       [187.51257789],\n",
       "       [266.61006781],\n",
       "       [266.61006781],\n",
       "       [333.84293425],\n",
       "       [310.11368727],\n",
       "       [321.97831076],\n",
       "       [187.51257789],\n",
       "       [333.84293425],\n",
       "       [219.15157386],\n",
       "       [179.60282889],\n",
       "       [203.33207587],\n",
       "       [203.33207587],\n",
       "       [171.6930799 ],\n",
       "       [310.11368727],\n",
       "       [203.33207587],\n",
       "       [321.97831076],\n",
       "       [337.79780874],\n",
       "       [333.84293425],\n",
       "       [266.61006781],\n",
       "       [203.33207587],\n",
       "       [242.88082083],\n",
       "       [357.57218122],\n",
       "       [345.70755773],\n",
       "       [262.65519331],\n",
       "       [223.10644835],\n",
       "       [262.65519331],\n",
       "       [369.43680471],\n",
       "       [195.42232688],\n",
       "       [203.33207587],\n",
       "       [187.51257789],\n",
       "       [266.61006781],\n",
       "       [282.42956579],\n",
       "       [179.60282889],\n",
       "       [242.88082083],\n",
       "       [349.66243223],\n",
       "       [203.33207587],\n",
       "       [262.65519331],\n",
       "       [349.66243223],\n",
       "       [262.65519331],\n",
       "       [270.56494231],\n",
       "       [310.11368727],\n",
       "       [282.42956579],\n",
       "       [187.51257789],\n",
       "       [321.97831076],\n",
       "       [242.88082083],\n",
       "       [369.43680471],\n",
       "       [258.70031882],\n",
       "       [183.55770339],\n",
       "       [361.52705572],\n",
       "       [282.42956579],\n",
       "       [333.84293425],\n",
       "       [242.88082083],\n",
       "       [179.60282889],\n",
       "       [262.65519331],\n",
       "       [262.65519331],\n",
       "       [219.15157386],\n",
       "       [262.65519331],\n",
       "       [262.65519331],\n",
       "       [179.60282889],\n",
       "       [203.33207587],\n",
       "       [187.51257789],\n",
       "       [219.15157386],\n",
       "       [361.52705572],\n",
       "       [298.24906378],\n",
       "       [266.61006781],\n",
       "       [262.65519331],\n",
       "       [258.70031882],\n",
       "       [349.66243223],\n",
       "       [298.24906378],\n",
       "       [262.65519331],\n",
       "       [274.5198168 ],\n",
       "       [262.65519331],\n",
       "       [266.61006781],\n",
       "       [266.61006781],\n",
       "       [203.33207587],\n",
       "       [187.51257789],\n",
       "       [274.5198168 ],\n",
       "       [219.15157386],\n",
       "       [266.61006781],\n",
       "       [187.51257789],\n",
       "       [274.5198168 ],\n",
       "       [270.56494231],\n",
       "       [203.33207587],\n",
       "       [242.88082083],\n",
       "       [377.3465537 ],\n",
       "       [223.10644835],\n",
       "       [314.06856176],\n",
       "       [282.42956579],\n",
       "       [183.55770339],\n",
       "       [187.51257789],\n",
       "       [203.33207587],\n",
       "       [250.79056983],\n",
       "       [266.61006781],\n",
       "       [369.43680471],\n",
       "       [242.88082083],\n",
       "       [298.24906378],\n",
       "       [203.33207587],\n",
       "       [262.65519331],\n",
       "       [262.65519331],\n",
       "       [262.65519331],\n",
       "       [187.51257789],\n",
       "       [179.60282889],\n",
       "       [349.66243223],\n",
       "       [321.97831076],\n",
       "       [203.33207587],\n",
       "       [179.60282889],\n",
       "       [266.61006781],\n",
       "       [321.97831076],\n",
       "       [345.70755773],\n",
       "       [314.06856176],\n",
       "       [223.10644835],\n",
       "       [203.33207587],\n",
       "       [369.43680471],\n",
       "       [321.97831076],\n",
       "       [242.88082083],\n",
       "       [187.51257789],\n",
       "       [258.70031882],\n",
       "       [219.15157386],\n",
       "       [270.56494231],\n",
       "       [321.97831076],\n",
       "       [270.56494231],\n",
       "       [262.65519331],\n",
       "       [349.66243223],\n",
       "       [187.51257789],\n",
       "       [250.79056983],\n",
       "       [329.88805975],\n",
       "       [282.42956579],\n",
       "       [321.97831076],\n",
       "       [266.61006781],\n",
       "       [262.65519331],\n",
       "       [242.88082083],\n",
       "       [294.29418928],\n",
       "       [345.70755773],\n",
       "       [195.42232688],\n",
       "       [262.65519331],\n",
       "       [203.33207587]])"
      ]
     },
     "execution_count": 12,
     "metadata": {},
     "output_type": "execute_result"
    }
   ],
   "source": [
    "y_pred = model.predict(X_test)\n",
    "y_pred"
   ]
  },
  {
   "cell_type": "code",
   "execution_count": 13,
   "id": "24f9a4cd-52fe-43b2-b962-c7cee5b0bd0b",
   "metadata": {},
   "outputs": [
    {
     "data": {
      "text/plain": [
       "array([[242.88082083]])"
      ]
     },
     "execution_count": 13,
     "metadata": {},
     "output_type": "execute_result"
    }
   ],
   "source": [
    "model.predict([[3]])"
   ]
  },
  {
   "cell_type": "code",
   "execution_count": 14,
   "id": "605152ae-5354-42cb-9d37-efc2979a9538",
   "metadata": {},
   "outputs": [
    {
     "data": {
      "text/plain": [
       "array([124.23458595])"
      ]
     },
     "execution_count": 14,
     "metadata": {},
     "output_type": "execute_result"
    }
   ],
   "source": [
    "#  βο\n",
    "model.intercept_"
   ]
  },
  {
   "cell_type": "code",
   "execution_count": 15,
   "id": "486f79f4-5ae0-4a24-9e00-a757ccfa6a02",
   "metadata": {},
   "outputs": [
    {
     "data": {
      "text/plain": [
       "array([[39.54874496]])"
      ]
     },
     "execution_count": 15,
     "metadata": {},
     "output_type": "execute_result"
    }
   ],
   "source": [
    "#  β1\n",
    "model.coef_"
   ]
  },
  {
   "cell_type": "code",
   "execution_count": null,
   "id": "bff387fe-d8cc-44e8-b0de-a75f7ac26491",
   "metadata": {},
   "outputs": [],
   "source": []
  },
  {
   "cell_type": "code",
   "execution_count": 16,
   "id": "3e52ed86-501f-4a99-8eb4-30f683ea6c59",
   "metadata": {},
   "outputs": [
    {
     "data": {
      "text/plain": [
       "0.7633265438534859"
      ]
     },
     "execution_count": 16,
     "metadata": {},
     "output_type": "execute_result"
    }
   ],
   "source": [
    "r2_score(y_test, y_pred)"
   ]
  },
  {
   "cell_type": "code",
   "execution_count": 17,
   "id": "d1dfc690-8174-4375-bbf1-7e05bb788757",
   "metadata": {},
   "outputs": [
    {
     "data": {
      "image/png": "[encoded data removed]",
      "text/plain": [
       "<Figure size 640x480 with 1 Axes>"
      ]
     },
     "metadata": {},
     "output_type": "display_data"
    }
   ],
   "source": [
    "plt.scatter(X_train, y_train, color = 'red')\n",
    "plt.plot(X_train, model.predict(X_train), color = 'blue')\n",
    "plt.title('ENGINESIZE vs CO2EMISSIONS of training set')\n",
    "plt.xlabel('Engine size')\n",
    "plt.ylabel('CO2EMISSIONS (g)')\n",
    "plt.show()"
   ]
  },
  {
   "cell_type": "code",
   "execution_count": 28,
   "id": "cd4a20d2-bb91-4826-9ceb-6a617c99b922",
   "metadata": {},
   "outputs": [
    {
     "data": {
      "text/plain": [
       "30.77802766989429"
      ]
     },
     "execution_count": 28,
     "metadata": {},
     "output_type": "execute_result"
    }
   ],
   "source": [
    "mean_squared_error(y_test, y_pred,squared=False)"
   ]
  },
  {
   "cell_type": "code",
   "execution_count": 55,
   "id": "1a569b25-0069-487d-8626-9a8e293399a6",
   "metadata": {},
   "outputs": [
    {
     "name": "stdout",
     "output_type": "stream",
     "text": [
      "Mean Squared Error : 30.77802766989429\n",
      "R2 score :  0.7633265438534859\n"
     ]
    }
   ],
   "source": [
    "print('Mean Squared Error :', mean_squared_error(y_test, y_pred,squared=False))\n",
    "print('R2 score : ', r2_score(y_test, y_pred))"
   ]
  },
  {
   "cell_type": "code",
   "execution_count": 56,
   "id": "2aaa6aa5-cf5a-4548-934f-f2a0d29a25b6",
   "metadata": {},
   "outputs": [
    {
     "name": "stdout",
     "output_type": "stream",
     "text": [
      "Mean Squared Error : 29.897804494894643\n",
      "R2 score :  0.7766702515976937\n"
     ]
    }
   ],
   "source": [
    "#X test is the 25% of rows the rest 80% is the training test\n",
    "#2nd model\n",
    "X2 = dataset.iloc[:,[3,4]].values\n",
    "y2 = dataset.iloc[:,[-1]].values\n",
    "X_train, X_test, y_train, y_test = train_test_split(X2, y2, test_size = 0.25,random_state=1)\n",
    "#  βο\n",
    "model.intercept_\n",
    "#  β1\n",
    "model.coef_\n",
    "# run a linear to the dataset\n",
    "model = LinearRegression()\n",
    "model.fit(X_train, y_train)\n",
    "y_pred_2 = model.predict(X_test)\n",
    "print('Mean Squared Error :', mean_squared_error(y_test, y_pred_2,squared=False))\n",
    "print('R2 score : ', r2_score(y_test, y_pred_2))"
   ]
  },
  {
   "cell_type": "code",
   "execution_count": 60,
   "id": "283cedc3-a8dc-4dcb-98bc-f67f2c2696e9",
   "metadata": {},
   "outputs": [
    {
     "data": {
      "text/plain": [
       "array([[281.64134705]])"
      ]
     },
     "execution_count": 60,
     "metadata": {},
     "output_type": "execute_result"
    }
   ],
   "source": [
    "model.predict([[3,10]])"
   ]
  },
  {
   "cell_type": "code",
   "execution_count": 61,
   "id": "e88e6f16-54dd-48a0-959f-2f6a920e68c9",
   "metadata": {},
   "outputs": [],
   "source": [
    "#3nd model\n",
    "X3 = dataset.iloc[:,[3,4,9]].values\n",
    "y3 = dataset.iloc[:,[-1]].values"
   ]
  },
  {
   "cell_type": "code",
   "execution_count": 67,
   "id": "39d43744-3026-4410-b4a5-5f6e211e0d31",
   "metadata": {},
   "outputs": [
    {
     "name": "stdout",
     "output_type": "stream",
     "text": [
      "Mean Squared Error : 23.778337702109724\n",
      "R2 score :  0.8587361746188314\n"
     ]
    }
   ],
   "source": [
    "#X test is the 25% of rows the rest 80% is the training test\n",
    "#3rd model\n",
    "X3 = dataset.iloc[:,[3,4,9]].values\n",
    "y3 = dataset.iloc[:,[-1]].values\n",
    "X_train, X_test, y_train, y_test = train_test_split(X3, y3, test_size = 0.25,random_state=1)\n",
    "# run a linear to the dataset\n",
    "model = LinearRegression()\n",
    "model.fit(X_train, y_train)\n",
    "#  βο\n",
    "model.intercept_\n",
    "#  β1\n",
    "model.coef_\n",
    "\n",
    "y_pred_3 = model.predict(X_test)\n",
    "print('Mean Squared Error :', mean_squared_error(y_test, y_pred_3,squared=False))\n",
    "print('R2 score : ', r2_score(y_test, y_pred_3))"
   ]
  },
  {
   "cell_type": "code",
   "execution_count": 68,
   "id": "cfb6c669-50f8-4fb2-8657-b71b5b470abc",
   "metadata": {},
   "outputs": [
    {
     "data": {
      "text/plain": [
       "array([[255.79243263]])"
      ]
     },
     "execution_count": 68,
     "metadata": {},
     "output_type": "execute_result"
    }
   ],
   "source": [
    "model.predict([[3,10,9]])"
   ]
  },
  {
   "cell_type": "code",
   "execution_count": 70,
   "id": "ef563fab-6607-410c-b235-388d07de9405",
   "metadata": {},
   "outputs": [
    {
     "name": "stdout",
     "output_type": "stream",
     "text": [
      "Mean Squared Error : 23.81594038560859\n",
      "R2 score :  0.8582890366348139\n"
     ]
    }
   ],
   "source": [
    "#4th model\n",
    "#X test is the 25% of rows the rest 80% is the training test\n",
    "X4 = dataset.iloc[:,[3,4,7,9]].values\n",
    "y4 = dataset.iloc[:,[-1]].values\n",
    "X_train, X_test, y_train, y_test = train_test_split(X4, y4, test_size = 0.25,random_state=1)\n",
    "# run a linear to the dataset\n",
    "model = LinearRegression()\n",
    "model.fit(X_train, y_train)\n",
    "#  βο\n",
    "model.intercept_\n",
    "#  β1\n",
    "model.coef_\n",
    "\n",
    "y_pred_4 = model.predict(X_test)\n",
    "print('Mean Squared Error :', mean_squared_error(y_test, y_pred_4,squared=False))\n",
    "print('R2 score : ', r2_score(y_test, y_pred_4))"
   ]
  },
  {
   "cell_type": "code",
   "execution_count": 72,
   "id": "297c278a-89fd-414f-8857-66aaf6329800",
   "metadata": {},
   "outputs": [
    {
     "data": {
      "text/plain": [
       "array([[238.14053529]])"
      ]
     },
     "execution_count": 72,
     "metadata": {},
     "output_type": "execute_result"
    }
   ],
   "source": [
    "model.predict([[3,10,5,9]])"
   ]
  },
  {
   "cell_type": "code",
   "execution_count": 73,
   "id": "21443764-37c3-4b90-b1ae-06674be657c6",
   "metadata": {},
   "outputs": [
    {
     "name": "stdout",
     "output_type": "stream",
     "text": [
      "Mean Squared Error : 23.83049166125337\n",
      "R2 score :  0.8581158160767347\n"
     ]
    }
   ],
   "source": [
    "#5th model\n",
    "#X test is the 25% of rows the rest 80% is the training test\n",
    "X5 = dataset.iloc[:,[3,4,7,8,9]].values\n",
    "y5 = dataset.iloc[:,[-1]].values\n",
    "X_train, X_test, y_train, y_test = train_test_split(X5, y5, test_size = 0.25,random_state=1)\n",
    "# run a linear to the dataset\n",
    "model = LinearRegression()\n",
    "model.fit(X_train, y_train)\n",
    "#  βο\n",
    "model.intercept_\n",
    "#  β1\n",
    "model.coef_\n",
    "\n",
    "y_pred_5 = model.predict(X_test)\n",
    "print('Mean Squared Error :', mean_squared_error(y_test, y_pred_5,squared=False))\n",
    "print('R2 score : ', r2_score(y_test, y_pred_5))"
   ]
  },
  {
   "cell_type": "markdown",
   "id": "3e19d02c-f0c0-4c36-b1cb-67191d9c3f31",
   "metadata": {},
   "source": [
    "We see that after the 3rd model while adding features increases the R2 score, the difference is minimal compared to the 3rd model. Therefore, adding more features than 3 is not efficient for the model."
   ]
  },
  {
   "cell_type": "code",
   "execution_count": null,
   "id": "e772a763-5146-4739-be15-ac16e36c85f1",
   "metadata": {},
   "outputs": [],
   "source": []
  }
 ],
 "metadata": {
  "kernelspec": {
   "display_name": "Python 3 (ipykernel)",
   "language": "python",
   "name": "python3"
  },
  "language_info": {
   "codemirror_mode": {
    "name": "ipython",
    "version": 3
   },
   "file_extension": ".py",
   "mimetype": "text/x-python",
   "name": "python",
   "nbconvert_exporter": "python",
   "pygments_lexer": "ipython3",
   "version": "3.9.17"
  }
 },
 "nbformat": 4,
 "nbformat_minor": 5
}
